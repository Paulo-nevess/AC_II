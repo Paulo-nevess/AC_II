{
  "nbformat": 4,
  "nbformat_minor": 0,
  "metadata": {
    "colab": {
      "provenance": []
    },
    "kernelspec": {
      "name": "python3",
      "display_name": "Python 3"
    },
    "language_info": {
      "name": "python"
    }
  },
  "cells": [
    {
      "cell_type": "code",
      "execution_count": null,
      "metadata": {
        "id": "hQiVrK7Qx4If"
      },
      "outputs": [],
      "source": []
    },
    {
      "cell_type": "markdown",
      "source": [
        "OBSERVAÇÃO IMPORTANTE: Apenas portei para o Jupyter Notebook"
      ],
      "metadata": {
        "id": "vv5yngYG2ZGB"
      }
    },
    {
      "cell_type": "markdown",
      "source": [
        "Codigo template para o Exercício Prático 4 de Arquitetura de Computadores II\n",
        "previsao de entrega 7 de Outubro de 2024\n",
        "\n",
        "Caso haja comentários, é pois esqueci de(não deu para) traduzir\n",
        "\n",
        "Prototipo em Python\n",
        "Criado em 19-09-2024 Adaptado em 29-09-2024\n",
        "Revisão 1_29_09_2024\n",
        "\n",
        "não é necessário adicionar\n",
        "\n",
        "import serial\n",
        "\n",
        "import serial.tools.list_ports\n",
        "\n",
        "\n"
      ],
      "metadata": {
        "id": "EV6Cqvwmx6ZA"
      }
    },
    {
      "cell_type": "markdown",
      "source": [
        "Bibliotecas Iniciais"
      ],
      "metadata": {
        "id": "wFHC9w-TyYCH"
      }
    },
    {
      "cell_type": "code",
      "source": [
        "import os, io, re, subprocess, time, codecs, binascii\n",
        "\n",
        "from fnmatch import fnmatch\n",
        "\n",
        "from binascii import unhexlify\n",
        "\n",
        "from io import BytesIO"
      ],
      "metadata": {
        "id": "mZGViRrsyNMS"
      },
      "execution_count": null,
      "outputs": []
    },
    {
      "cell_type": "markdown",
      "source": [
        "----------------------------------------------------------------Localização do arquivo"
      ],
      "metadata": {
        "id": "3is4by2CynZ3"
      }
    },
    {
      "cell_type": "code",
      "source": [
        "def get_doc_folder():#Localiza a pasta documentos do windows ou linux\n",
        "    # toget user\n",
        "    user=os.path.join(os.environ['USERPROFILE'])\n",
        "    # to get documents\n",
        "    path_doc=str(os.path.join(os.path.join(user), 'Documents'))\n",
        "\n",
        "    return path_doc"
      ],
      "metadata": {
        "id": "BnCSfXvOyVKX"
      },
      "execution_count": null,
      "outputs": []
    },
    {
      "cell_type": "markdown",
      "source": [
        "Analise do mnemonico enviado versão 1"
      ],
      "metadata": {
        "id": "AwItNZkIy0dz"
      }
    },
    {
      "cell_type": "code",
      "source": [
        "def set_op_code_alpha(mnemonic):\n",
        "\n",
        "    pattern = re.compile(r'\\s+')\n",
        "    mnemonic = re.sub(pattern, '', mnemonic)\n",
        "\n",
        "    #print(mnemonic)\n",
        "\n",
        "    if mnemonic=='umL':\n",
        "        return '0'\n",
        "    elif mnemonic=='AonB':\n",
        "        return '1'\n",
        "    elif mnemonic=='copiaA':\n",
        "        return '2'\n",
        "    elif mnemonic=='nAxnB':\n",
        "        return '3'\n",
        "    elif mnemonic=='AeBn':\n",
        "        return '4'\n",
        "    elif mnemonic=='nA':\n",
        "        return '5'\n",
        "    elif mnemonic=='AenB':\n",
        "        return '6'\n",
        "    elif mnemonic=='nAonB':\n",
        "        return '7'\n",
        "    elif mnemonic=='AxB':\n",
        "        return '8'\n",
        "    elif mnemonic=='zeroL':\n",
        "        return '9'\n",
        "    elif mnemonic=='copiaB':\n",
        "        return 'A'\n",
        "    elif mnemonic=='AeB':\n",
        "        return 'B'\n",
        "    elif mnemonic=='nB':\n",
        "        return 'C'\n",
        "    elif mnemonic=='nAeBn':\n",
        "        return 'D'\n",
        "    elif mnemonic=='AoB':\n",
        "        return 'E'\n",
        "    elif mnemonic=='nAeB':\n",
        "        return 'F'\n",
        "    else:\n",
        "        print (\"not recognized\")\n",
        "        return -1"
      ],
      "metadata": {
        "id": "OACO5t9Sy7Bg"
      },
      "execution_count": null,
      "outputs": []
    },
    {
      "cell_type": "markdown",
      "source": [
        "Analise do mnemonico enviado versão 2"
      ],
      "metadata": {
        "id": "kaINHDxRzBrI"
      }
    },
    {
      "cell_type": "code",
      "source": [
        "def set_op_code_beta(mnemonic):\n",
        "\n",
        "    pattern = re.compile(r'\\s+')\n",
        "    mnemonic = re.sub(pattern, '', mnemonic)\n",
        "\n",
        "    #print(mnemonic)\n",
        "\n",
        "    dict_op_codes={\n",
        "        'umL': '0',\n",
        "        'AonB': '1',\n",
        "        'copiaA': '2',\n",
        "        'nAxnB': '3',\n",
        "        'AeBn': '4',\n",
        "        'nA': '5',\n",
        "        'AenB': '6',\n",
        "        'nAonB': '7',\n",
        "        'AxB': '8',\n",
        "        'zeroL': '9',\n",
        "        'copiaB': 'A',\n",
        "        'AeB': 'B',\n",
        "        'nB': 'C',\n",
        "        'nAeBn': 'D',\n",
        "        'AoB': 'E',\n",
        "        'nAeB': 'F'}\n",
        "    try:\n",
        "        return dict_op_codes.get(mnemonic)\n",
        "    except Exception as errno:\n",
        "        print (\"not recognized \", errno)\n",
        "        return None"
      ],
      "metadata": {
        "id": "13twYqICzH5R"
      },
      "execution_count": null,
      "outputs": []
    },
    {
      "cell_type": "markdown",
      "source": [
        "Checagem das funções"
      ],
      "metadata": {
        "id": "GF9VDCoTzNw4"
      }
    },
    {
      "cell_type": "code",
      "source": [
        "def check_result(mnemonic,result):\n",
        "\n",
        "    if result==-1:\n",
        "        print((\"A chave %s não possui o valor associado. \"%(mnemonic)))\n",
        "    else:\n",
        "        print(\"O Dicionário possui a chave: %s\"%(mnemonic))\n",
        "        print(\"e a chave %s possui o valor: %s\"%(mnemonic,result))\n"
      ],
      "metadata": {
        "id": "idkNpquozSlN"
      },
      "execution_count": null,
      "outputs": []
    },
    {
      "cell_type": "markdown",
      "source": [
        "Função para checar as duas funções"
      ],
      "metadata": {
        "id": "hXD9DBv0zY36"
      }
    },
    {
      "cell_type": "code",
      "source": [
        "def show_mnemonic():#Teste das 2 versões\n",
        "    #mnemonico v1:\n",
        "    mnemonic= 'umL'\n",
        "    print(\"mnemonico v1\")\n",
        "    print(\"O Dicionário possui a chave: %s ?\"%(mnemonic))\n",
        "    result=set_op_code_alpha(mnemonic)\n",
        "    check_result(mnemonic,result)\n",
        "    print()\n",
        "    #mnemonico v2:\n",
        "    print(\"mnemonico v2\")\n",
        "    print(\"O Dicionário possui a chave: %s ?\"%(mnemonic))\n",
        "    result2=set_op_code_beta(mnemonic)\n",
        "    check_result(mnemonic,result2)"
      ],
      "metadata": {
        "id": "geIrO2jRziPZ"
      },
      "execution_count": null,
      "outputs": []
    },
    {
      "cell_type": "markdown",
      "source": [
        "escrita e leitura de arquivo .hex"
      ],
      "metadata": {
        "id": "034MF__tzo00"
      }
    },
    {
      "cell_type": "markdown",
      "source": [
        "Préludio"
      ],
      "metadata": {
        "id": "giS8XdaPzu1M"
      }
    },
    {
      "cell_type": "code",
      "source": [
        "def generate_hex(list_96_op):#Escrita do arquivo .hex\n",
        "\n",
        "    path_txt=get_doc_folder()+\"\\\\ac_2_ep_04\\\\text.hex\"# Caminho do arquivo\n",
        "\n",
        "    if not os.path.exists(get_doc_folder()+\"\\\\ac_2_ep_04\"):#verificação da pasta\n",
        "        os.makedirs(get_doc_folder()+\"\\\\ac_2_ep_04\")\n",
        "\n",
        "    print(\"Escrita no caminho: \",path_txt) # Feedback\n",
        "\n",
        "    with open(path_txt,\"w\") as arquivo: # Escrita do arquivo\n",
        "        arquivo.write(\"\".join(str(item) for item in list_96_op))\n",
        "        #pickle..dump(list_96_op, arquivo)"
      ],
      "metadata": {
        "id": "C6oVBQZgzxVD"
      },
      "execution_count": null,
      "outputs": []
    },
    {
      "cell_type": "markdown",
      "source": [
        "leitura do arquivo .hex test"
      ],
      "metadata": {
        "id": "lUo-gAJdz2-t"
      }
    },
    {
      "cell_type": "code",
      "source": [
        "def read_hex_test():# Leitura do arquivo .hex\n",
        "\n",
        "    path_txt=get_doc_folder()+\"\\\\ac_2_ep_04\\\\text.hex\"# Caminho do arquivo\n",
        "\n",
        "    if not os.path.exists(get_doc_folder()+\"\\\\ac_2_ep_04\"):# Feedback\n",
        "        os.makedirs(get_doc_folder()+\"\\\\ac_2_ep_04\")\n",
        "\n",
        "    print(\"Leitura no caminho: \",path_txt) # Feedback\n",
        "\n",
        ""
      ],
      "metadata": {
        "id": "MWOOifgAz8L_"
      },
      "execution_count": null,
      "outputs": []
    },
    {
      "cell_type": "markdown",
      "source": [
        "Gerando operação a ser gravada"
      ],
      "metadata": {
        "id": "U85tZi_R0Bjw"
      }
    },
    {
      "cell_type": "code",
      "source": [
        "def generate_op(x,y,w): #----------Gera a operação a ser gravada\n",
        "\n",
        "    pattern = re.compile(r'\\s+')\n",
        "    x = re.sub(pattern, '', x)\n",
        "\n",
        "    pattern = re.compile(r'\\s+')\n",
        "    y = re.sub(pattern, '', y)\n",
        "\n",
        "    pattern = re.compile(r'\\s+')\n",
        "    w = re.sub(pattern, '', w)\n",
        "\n",
        "    return (x+y+w)\n",
        "\n"
      ],
      "metadata": {
        "id": "0vBYnwe40GEz"
      },
      "execution_count": null,
      "outputs": []
    },
    {
      "cell_type": "markdown",
      "source": [
        "analise de arquivo\n",
        "\n",
        " Baseado no path dado e no parametro\n",
        " listará os arquivos dentro do local\n",
        " e das subpastas"
      ],
      "metadata": {
        "id": "CpRnAQ3X0Jxu"
      }
    },
    {
      "cell_type": "code",
      "source": [
        "def list_files(path_f,pattern_f):\n",
        "\n",
        "    #Configura variavel de caminho\n",
        "    root = path_f\n",
        "\n",
        "    #Configura variavel de padrão(extensão do arquivo a ser lido)\n",
        "    pattern = pattern_f\n",
        "\n",
        "    find_files=[] #Vetor de Strings\n",
        "    list_96_op=[] # vetor de strings\n",
        "\n",
        "    #Leitura e adição em um vetor de caminhos\n",
        "    for path, subdirs, files in os.walk(root):\n",
        "\n",
        "        for name in files:\n",
        "\n",
        "            if fnmatch(name, pattern):\n",
        "\n",
        "                file_p=os.path.join(path, name)\n",
        "\n",
        "                find_files.append(file_p)\n",
        "\n",
        "    #Exibe cada caminho encontrado\n",
        "    for file_x in find_files:\n",
        "\n",
        "        print(file_x)\n",
        "\n",
        "    #Leitura do caminho escolhido\n",
        "    with open(find_files[0], \"r\") as fp:\n",
        "\n",
        "        #Leitura da primeira linha\n",
        "        lines = fp.readline()\n",
        "\n",
        "        #Checagem\n",
        "        if(('inicio:' in lines)|('Inicio:' in lines)):\n",
        "\n",
        "            lines = fp.readlines()#Leitura das demais linhas\n",
        "            #Inicializa as variáveis\n",
        "            x=''\n",
        "            y=''\n",
        "            w=''\n",
        "            for i in lines:\n",
        "\n",
        "                if ((i ==\"fim.\" )|(i ==\"Fim.\")): #se chegar o fim\n",
        "\n",
        "                    break#interrompe\n",
        "                else:\n",
        "\n",
        "                    print('Linha: ',i)#Exibe linha\n",
        "\n",
        "                    if('X=' in i):\n",
        "                        x=re.sub(\"[x:,.X=;]\",\"\",i) # adiciona o valor de x\n",
        "                        #Feedback\n",
        "                        #print('X equivale a ',x)\n",
        "                        #print('Y equivale a ',y)\n",
        "\n",
        "                    elif('Y=' in i):\n",
        "                        y=re.sub(\"[y:,.Y=;]\",\"\",i) # adiciona o valor de x\n",
        "                        #Feedback\n",
        "                        #print('X equivale a ',x)\n",
        "                        #print('Y equivale a ',y)\n",
        "\n",
        "                    elif('W=' in i):\n",
        "                        w=re.sub(\"[w:,.W=;]\",\"\",i) # adiciona o valor de w\n",
        "                        w=set_op_code_beta(w) #pega o opcode\n",
        "                        #Feedback\n",
        "                        #print('X equivale a ',x)\n",
        "                        #print('Y equivale a ',y)\n",
        "                        #print('W equivale a ',w)\n",
        "                        operate=generate_op(x,y,w)\n",
        "                        #print('Operacao: ',operate)\n",
        "\n",
        "                        list_96_op.append(operate) # gera a string e adiciona ao vetor de strings\n",
        "            #Feedback\n",
        "            for opcode in list_96_op:\n",
        "                print(\"operacao: \",opcode)\n",
        "            generate_hex(list_96_op)#Cria o arquivo .hex\n",
        "\n",
        "        else:\n",
        "\n",
        "            print(\"wrong command text\")#feedback"
      ],
      "metadata": {
        "id": "fZRyRHas0P2r"
      },
      "execution_count": null,
      "outputs": []
    },
    {
      "cell_type": "markdown",
      "source": [
        "Organize, por favor e por gentileza, primeiro a pasta documentos antes da execução desta função e altere alguns detalhes(somente escrevi não testei)"
      ],
      "metadata": {
        "id": "RrTSCb5i0X8r"
      }
    },
    {
      "cell_type": "code",
      "source": [
        "def set_path_read():#Escolha do usuário para configurar o path do arquivo\n",
        "\n",
        "    print(\"Set local to read:\")\n",
        "    print(\"1)--->Path\")\n",
        "    print(\"2)--->Users/Documents\")\n",
        "    result=input(\"Choose a option, please: \")\n",
        "    if result==1:\n",
        "        path_f=input(\"Set a path, please: \")\n",
        "        list_files(path_f,\"*.ula\")\n",
        "    elif result==2:\n",
        "        list_files(get_doc_folder(),\"*.ula\")\n",
        "    else:\n",
        "        print (\"not recognized\")"
      ],
      "metadata": {
        "id": "bfiFlfO20wZF"
      },
      "execution_count": null,
      "outputs": []
    },
    {
      "cell_type": "markdown",
      "source": [
        "----------------------------------------------------------------(96 operações)\n",
        "converter para string e gravar\n"
      ],
      "metadata": {
        "id": "YkPHwqMB0yjx"
      }
    },
    {
      "cell_type": "markdown",
      "source": [
        "use para treinar o programa"
      ],
      "metadata": {
        "id": "KdIkuUVf1OgW"
      }
    },
    {
      "cell_type": "code",
      "source": [
        "def write_read_txt_3():#Préludio do arquivo\n",
        "    try:\n",
        "        print(\"Criando o arquivo\")\n",
        "        list_files(get_doc_folder(),\"*.ula\") #Escrita do arquivo\n",
        "        print(\"Lendo o arquivo\")\n",
        "        read_txt(get_doc_folder()+\"\\\\ac_2_ep_04\\\\text.hex\")#Leitura do arquivo\n",
        "    except Exception as errno:\n",
        "        print(\"Erro was found\")\n",
        "        print(errno)\n",
        "\n",
        "#Command to clear the terminal(Limpa o terminal)\n",
        "os.system('cls' if os.name == 'nt' else 'clear')"
      ],
      "metadata": {
        "id": "m3jjWXHl0-NJ"
      },
      "execution_count": null,
      "outputs": []
    },
    {
      "cell_type": "markdown",
      "source": [
        "\n",
        "---------------------------------------Orientações-------------------------------------------------"
      ],
      "metadata": {
        "id": "e_Z00GdF12BO"
      }
    },
    {
      "cell_type": "markdown",
      "source": [
        "\n",
        "Lista de funções para o exercicio"
      ],
      "metadata": {
        "id": "QWDV5-X-1zDS"
      }
    },
    {
      "cell_type": "markdown",
      "source": [
        "\n",
        "\n",
        "-->get_doc_folder():#Localiza a pasta documentos do windows ou linux"
      ],
      "metadata": {
        "id": "tKsgnNub1vaM"
      }
    },
    {
      "cell_type": "markdown",
      "source": [
        "\n",
        "-->set_op_code_beta(mnemonic):#analisa e retorna o opcode"
      ],
      "metadata": {
        "id": "dIzmq8my1sPG"
      }
    },
    {
      "cell_type": "markdown",
      "source": [
        "\n",
        "-->read_txt(path_txt):#Leitura do arquivo .hex"
      ],
      "metadata": {
        "id": "ypURejv01pRQ"
      }
    },
    {
      "cell_type": "markdown",
      "source": [
        "\n",
        "-->generate_op(x,y,w): #----------Gera a operação a ser gravada"
      ],
      "metadata": {
        "id": "AKdFLdIO1mOj"
      }
    },
    {
      "cell_type": "markdown",
      "source": [
        "\n",
        "-->generate_hex(list_96_op):#Escrita do arquivo .hex"
      ],
      "metadata": {
        "id": "5gbq0Uan1d6Y"
      }
    },
    {
      "cell_type": "markdown",
      "source": [
        "\n",
        "-->list_files(get_doc_folder(),\"*.ula\") #Leitura do arquivo .txt(.ula) e"
      ],
      "metadata": {
        "id": "dzGz91Na1Yne"
      }
    },
    {
      "cell_type": "markdown",
      "source": [
        "escrita do arquivo .hex"
      ],
      "metadata": {
        "id": "p9H-qMtx1Uzi"
      }
    },
    {
      "cell_type": "markdown",
      "source": [
        "Função geral, por gentileza, adicione todas em um arquivo .py antes de rodar por precaução"
      ],
      "metadata": {
        "id": "vYyM-ADZ19Tt"
      }
    },
    {
      "cell_type": "code",
      "source": [
        "write_read_txt_3() #Usem esta função e suas subfunções acima listadas por favor\n"
      ],
      "metadata": {
        "id": "Abkkrrze2MTM"
      },
      "execution_count": null,
      "outputs": []
    },
    {
      "cell_type": "markdown",
      "source": [
        "as demais foram apagadas pois eram apenas testes e feedback"
      ],
      "metadata": {
        "id": "XGD9dys92O2T"
      }
    }
  ]
}